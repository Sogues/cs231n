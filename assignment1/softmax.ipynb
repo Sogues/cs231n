{
 "cells": [
  {
   "cell_type": "markdown",
   "metadata": {},
   "source": [
    "# Softmax exercise\n",
    "\n",
    "*Complete and hand in this completed worksheet (including its outputs and any supporting code outside of the worksheet) with your assignment submission. For more details see the [assignments page](http://vision.stanford.edu/teaching/cs231n/assignments.html) on the course website.*\n",
    "\n",
    "This exercise is analogous to the SVM exercise. You will:\n",
    "\n",
    "- implement a fully-vectorized **loss function** for the Softmax classifier\n",
    "- implement the fully-vectorized expression for its **analytic gradient**\n",
    "- **check your implementation** with numerical gradient\n",
    "- use a validation set to **tune the learning rate and regularization** strength\n",
    "- **optimize** the loss function with **SGD**\n",
    "- **visualize** the final learned weights\n"
   ]
  },
  {
   "cell_type": "code",
   "execution_count": 1,
   "metadata": {
    "collapsed": true
   },
   "outputs": [],
   "source": [
    "import random\n",
    "import numpy as np\n",
    "from cs231n.data_utils import load_CIFAR10\n",
    "import matplotlib.pyplot as plt\n",
    "\n",
    "from __future__ import print_function\n",
    "\n",
    "%matplotlib inline\n",
    "plt.rcParams['figure.figsize'] = (10.0, 8.0) # set default size of plots\n",
    "plt.rcParams['image.interpolation'] = 'nearest'\n",
    "plt.rcParams['image.cmap'] = 'gray'\n",
    "\n",
    "# for auto-reloading extenrnal modules\n",
    "# see http://stackoverflow.com/questions/1907993/autoreload-of-modules-in-ipython\n",
    "%load_ext autoreload\n",
    "%autoreload 2"
   ]
  },
  {
   "cell_type": "code",
   "execution_count": 2,
   "metadata": {},
   "outputs": [
    {
     "name": "stdout",
     "output_type": "stream",
     "text": [
      "Train data shape:  (49000, 3073)\n",
      "Train labels shape:  (49000,)\n",
      "Validation data shape:  (1000, 3073)\n",
      "Validation labels shape:  (1000,)\n",
      "Test data shape:  (1000, 3073)\n",
      "Test labels shape:  (1000,)\n",
      "dev data shape:  (500, 3073)\n",
      "dev labels shape:  (500,)\n",
      "CPU times: user 3.12 s, sys: 3.57 s, total: 6.69 s\n",
      "Wall time: 7.2 s\n"
     ]
    }
   ],
   "source": [
    "%%time\n",
    "def get_CIFAR10_data(num_training=49000, num_validation=1000, num_test=1000, num_dev=500):\n",
    "    \"\"\"\n",
    "    Load the CIFAR-10 dataset from disk and perform preprocessing to prepare\n",
    "    it for the linear classifier. These are the same steps as we used for the\n",
    "    SVM, but condensed to a single function.  \n",
    "    \"\"\"\n",
    "    # Load the raw CIFAR-10 data\n",
    "    cifar10_dir = 'cs231n/datasets/cifar-10-batches-py'\n",
    "    X_train, y_train, X_test, y_test = load_CIFAR10(cifar10_dir)\n",
    "    \n",
    "    # subsample the data\n",
    "    mask = list(range(num_training, num_training + num_validation))\n",
    "    X_val = X_train[mask]\n",
    "    y_val = y_train[mask]\n",
    "    mask = list(range(num_training))\n",
    "    X_train = X_train[mask]\n",
    "    y_train = y_train[mask]\n",
    "    mask = list(range(num_test))\n",
    "    X_test = X_test[mask]\n",
    "    y_test = y_test[mask]\n",
    "    mask = np.random.choice(num_training, num_dev, replace=False)\n",
    "    X_dev = X_train[mask]\n",
    "    y_dev = y_train[mask]\n",
    "    \n",
    "    # Preprocessing: reshape the image data into rows\n",
    "    X_train = np.reshape(X_train, (X_train.shape[0], -1))\n",
    "    X_val = np.reshape(X_val, (X_val.shape[0], -1))\n",
    "    X_test = np.reshape(X_test, (X_test.shape[0], -1))\n",
    "    X_dev = np.reshape(X_dev, (X_dev.shape[0], -1))\n",
    "    \n",
    "    # Normalize the data: subtract the mean image\n",
    "    mean_image = np.mean(X_train, axis = 0)\n",
    "    X_train -= mean_image\n",
    "    X_val -= mean_image\n",
    "    X_test -= mean_image\n",
    "    X_dev -= mean_image\n",
    "    \n",
    "    # add bias dimension and transform into columns\n",
    "    X_train = np.hstack([X_train, np.ones((X_train.shape[0], 1))])\n",
    "    X_val = np.hstack([X_val, np.ones((X_val.shape[0], 1))])\n",
    "    X_test = np.hstack([X_test, np.ones((X_test.shape[0], 1))])\n",
    "    X_dev = np.hstack([X_dev, np.ones((X_dev.shape[0], 1))])\n",
    "    \n",
    "    return X_train, y_train, X_val, y_val, X_test, y_test, X_dev, y_dev\n",
    "\n",
    "\n",
    "# Invoke the above function to get our data.\n",
    "X_train, y_train, X_val, y_val, X_test, y_test, X_dev, y_dev = get_CIFAR10_data()\n",
    "print('Train data shape: ', X_train.shape)\n",
    "print('Train labels shape: ', y_train.shape)\n",
    "print('Validation data shape: ', X_val.shape)\n",
    "print('Validation labels shape: ', y_val.shape)\n",
    "print('Test data shape: ', X_test.shape)\n",
    "print('Test labels shape: ', y_test.shape)\n",
    "print('dev data shape: ', X_dev.shape)\n",
    "print('dev labels shape: ', y_dev.shape)"
   ]
  },
  {
   "cell_type": "markdown",
   "metadata": {},
   "source": [
    "## Softmax Classifier\n",
    "\n",
    "Your code for this section will all be written inside **cs231n/classifiers/softmax.py**. \n"
   ]
  },
  {
   "cell_type": "code",
   "execution_count": 3,
   "metadata": {},
   "outputs": [
    {
     "name": "stderr",
     "output_type": "stream",
     "text": [
      "100%|██████████| 500/500 [00:00<00:00, 4635.00it/s]"
     ]
    },
    {
     "name": "stdout",
     "output_type": "stream",
     "text": [
      "loss: 2.368273\n",
      "sanity check: 2.302585\n",
      "CPU times: user 135 ms, sys: 21.3 ms, total: 157 ms\n",
      "Wall time: 179 ms\n"
     ]
    },
    {
     "name": "stderr",
     "output_type": "stream",
     "text": [
      "\n"
     ]
    }
   ],
   "source": [
    "%%time\n",
    "# First implement the naive softmax loss function with nested loops.\n",
    "# Open the file cs231n/classifiers/softmax.py and implement the\n",
    "# softmax_loss_naive function.\n",
    "\n",
    "from cs231n.classifiers.softmax import softmax_loss_naive\n",
    "import time\n",
    "\n",
    "# Generate a random softmax weight matrix and use it to compute the loss.\n",
    "W = np.random.randn(3073, 10) * 0.0001\n",
    "loss, grad = softmax_loss_naive(W, X_dev, y_dev, 0.0)\n",
    "\n",
    "# As a rough sanity check, our loss should be something close to -log(0.1).\n",
    "print('loss: %f' % loss)\n",
    "print('sanity check: %f' % (-np.log(0.1)))"
   ]
  },
  {
   "cell_type": "markdown",
   "metadata": {},
   "source": [
    "## Inline Question 1:\n",
    "Why do we expect our loss to be close to -log(0.1)? Explain briefly.**\n",
    "\n",
    "**Your answer:** *Fill this in*\n"
   ]
  },
  {
   "cell_type": "code",
   "execution_count": 4,
   "metadata": {},
   "outputs": [
    {
     "name": "stderr",
     "output_type": "stream",
     "text": [
      "100%|██████████| 500/500 [00:00<00:00, 3655.69it/s]\n",
      "100%|██████████| 500/500 [00:00<00:00, 4919.55it/s]\n",
      "100%|██████████| 500/500 [00:00<00:00, 4875.86it/s]\n",
      "100%|██████████| 500/500 [00:00<00:00, 5233.85it/s]\n",
      "  0%|          | 0/500 [00:00<?, ?it/s]"
     ]
    },
    {
     "name": "stdout",
     "output_type": "stream",
     "text": [
      "numerical: 0.308111 analytic: 0.308111, relative error: 2.144129e-07\n"
     ]
    },
    {
     "name": "stderr",
     "output_type": "stream",
     "text": [
      "100%|██████████| 500/500 [00:00<00:00, 4785.88it/s]\n",
      "100%|██████████| 500/500 [00:00<00:00, 4912.46it/s]\n",
      "  0%|          | 0/500 [00:00<?, ?it/s]"
     ]
    },
    {
     "name": "stdout",
     "output_type": "stream",
     "text": [
      "numerical: 0.248798 analytic: 0.248798, relative error: 2.163774e-07\n"
     ]
    },
    {
     "name": "stderr",
     "output_type": "stream",
     "text": [
      "100%|██████████| 500/500 [00:00<00:00, 5075.37it/s]\n",
      "100%|██████████| 500/500 [00:00<00:00, 5298.30it/s]\n",
      "100%|██████████| 500/500 [00:00<00:00, 5087.14it/s]\n",
      "  0%|          | 0/500 [00:00<?, ?it/s]"
     ]
    },
    {
     "name": "stdout",
     "output_type": "stream",
     "text": [
      "numerical: 1.839965 analytic: 1.839965, relative error: 1.697761e-08\n",
      "numerical: -1.465557 analytic: -1.465557, relative error: 6.891691e-09\n"
     ]
    },
    {
     "name": "stderr",
     "output_type": "stream",
     "text": [
      "100%|██████████| 500/500 [00:00<00:00, 5255.47it/s]\n",
      "100%|██████████| 500/500 [00:00<00:00, 4378.32it/s]\n",
      "100%|██████████| 500/500 [00:00<00:00, 5017.51it/s]\n",
      "100%|██████████| 500/500 [00:00<00:00, 5270.26it/s]\n"
     ]
    },
    {
     "name": "stdout",
     "output_type": "stream",
     "text": [
      "numerical: 0.877999 analytic: 0.877999, relative error: 7.942443e-08\n",
      "numerical: -1.034609 analytic: -1.034609, relative error: 6.287549e-08\n"
     ]
    },
    {
     "name": "stderr",
     "output_type": "stream",
     "text": [
      "100%|██████████| 500/500 [00:00<00:00, 5270.64it/s]\n",
      "100%|██████████| 500/500 [00:00<00:00, 5112.69it/s]\n",
      "100%|██████████| 500/500 [00:00<00:00, 5352.69it/s]\n",
      "100%|██████████| 500/500 [00:00<00:00, 5143.61it/s]\n",
      "  0%|          | 0/500 [00:00<?, ?it/s]"
     ]
    },
    {
     "name": "stdout",
     "output_type": "stream",
     "text": [
      "numerical: -0.725482 analytic: -0.725482, relative error: 5.525684e-08\n",
      "numerical: -0.153572 analytic: -0.153572, relative error: 1.101861e-07\n"
     ]
    },
    {
     "name": "stderr",
     "output_type": "stream",
     "text": [
      "100%|██████████| 500/500 [00:00<00:00, 5080.17it/s]\n",
      "100%|██████████| 500/500 [00:00<00:00, 4720.68it/s]\n",
      "100%|██████████| 500/500 [00:00<00:00, 5134.00it/s]\n",
      "  0%|          | 0/500 [00:00<?, ?it/s]"
     ]
    },
    {
     "name": "stdout",
     "output_type": "stream",
     "text": [
      "numerical: -1.672378 analytic: -1.672378, relative error: 1.502858e-08\n"
     ]
    },
    {
     "name": "stderr",
     "output_type": "stream",
     "text": [
      "100%|██████████| 500/500 [00:00<00:00, 4664.48it/s]\n",
      "100%|██████████| 500/500 [00:00<00:00, 4735.16it/s]\n",
      "  0%|          | 0/500 [00:00<?, ?it/s]"
     ]
    },
    {
     "name": "stdout",
     "output_type": "stream",
     "text": [
      "numerical: -2.076217 analytic: -2.076218, relative error: 3.482689e-08\n"
     ]
    },
    {
     "name": "stderr",
     "output_type": "stream",
     "text": [
      "100%|██████████| 500/500 [00:00<00:00, 5082.85it/s]\n",
      "100%|██████████| 500/500 [00:00<00:00, 4770.08it/s]\n",
      "100%|██████████| 500/500 [00:00<00:00, 5002.31it/s]\n",
      "  0%|          | 0/500 [00:00<?, ?it/s]"
     ]
    },
    {
     "name": "stdout",
     "output_type": "stream",
     "text": [
      "numerical: 5.092049 analytic: 5.092049, relative error: 1.386525e-08\n"
     ]
    },
    {
     "name": "stderr",
     "output_type": "stream",
     "text": [
      "100%|██████████| 500/500 [00:00<00:00, 4835.30it/s]\n",
      "100%|██████████| 500/500 [00:00<00:00, 4754.48it/s]\n",
      "  0%|          | 0/500 [00:00<?, ?it/s]"
     ]
    },
    {
     "name": "stdout",
     "output_type": "stream",
     "text": [
      "numerical: -2.025849 analytic: -2.025850, relative error: 1.683108e-08\n"
     ]
    },
    {
     "name": "stderr",
     "output_type": "stream",
     "text": [
      "100%|██████████| 500/500 [00:00<00:00, 5126.26it/s]\n",
      "100%|██████████| 500/500 [00:00<00:00, 4733.14it/s]\n",
      "  0%|          | 0/500 [00:00<?, ?it/s]"
     ]
    },
    {
     "name": "stdout",
     "output_type": "stream",
     "text": [
      "numerical: -0.142555 analytic: -0.142555, relative error: 5.818948e-07\n"
     ]
    },
    {
     "name": "stderr",
     "output_type": "stream",
     "text": [
      "100%|██████████| 500/500 [00:00<00:00, 5131.99it/s]\n",
      "100%|██████████| 500/500 [00:00<00:00, 4447.48it/s]\n",
      "  0%|          | 0/500 [00:00<?, ?it/s]"
     ]
    },
    {
     "name": "stdout",
     "output_type": "stream",
     "text": [
      "numerical: 3.315172 analytic: 3.315172, relative error: 2.455557e-08\n"
     ]
    },
    {
     "name": "stderr",
     "output_type": "stream",
     "text": [
      "100%|██████████| 500/500 [00:00<00:00, 5204.97it/s]\n",
      "100%|██████████| 500/500 [00:00<00:00, 4774.22it/s]\n",
      "  0%|          | 0/500 [00:00<?, ?it/s]"
     ]
    },
    {
     "name": "stdout",
     "output_type": "stream",
     "text": [
      "numerical: 4.702615 analytic: 4.702614, relative error: 1.293052e-08\n"
     ]
    },
    {
     "name": "stderr",
     "output_type": "stream",
     "text": [
      "100%|██████████| 500/500 [00:00<00:00, 5208.66it/s]\n",
      "100%|██████████| 500/500 [00:00<00:00, 5109.14it/s]\n",
      "  0%|          | 0/500 [00:00<?, ?it/s]"
     ]
    },
    {
     "name": "stdout",
     "output_type": "stream",
     "text": [
      "numerical: -1.381996 analytic: -1.381996, relative error: 3.189416e-08\n"
     ]
    },
    {
     "name": "stderr",
     "output_type": "stream",
     "text": [
      "100%|██████████| 500/500 [00:00<00:00, 4391.71it/s]\n",
      "100%|██████████| 500/500 [00:00<00:00, 4810.74it/s]\n",
      "  0%|          | 0/500 [00:00<?, ?it/s]"
     ]
    },
    {
     "name": "stdout",
     "output_type": "stream",
     "text": [
      "numerical: -0.540553 analytic: -0.540553, relative error: 4.381342e-08\n"
     ]
    },
    {
     "name": "stderr",
     "output_type": "stream",
     "text": [
      "100%|██████████| 500/500 [00:00<00:00, 5048.42it/s]\n",
      "100%|██████████| 500/500 [00:00<00:00, 4413.07it/s]\n",
      "  0%|          | 0/500 [00:00<?, ?it/s]"
     ]
    },
    {
     "name": "stdout",
     "output_type": "stream",
     "text": [
      "numerical: 0.940002 analytic: 0.940002, relative error: 3.663302e-08\n"
     ]
    },
    {
     "name": "stderr",
     "output_type": "stream",
     "text": [
      "100%|██████████| 500/500 [00:00<00:00, 5352.40it/s]\n",
      "100%|██████████| 500/500 [00:00<00:00, 4586.87it/s]\n",
      "  0%|          | 0/500 [00:00<?, ?it/s]"
     ]
    },
    {
     "name": "stdout",
     "output_type": "stream",
     "text": [
      "numerical: -0.794449 analytic: -0.794449, relative error: 8.066714e-08\n"
     ]
    },
    {
     "name": "stderr",
     "output_type": "stream",
     "text": [
      "\r",
      "100%|██████████| 500/500 [00:00<00:00, 4992.11it/s]"
     ]
    },
    {
     "name": "stdout",
     "output_type": "stream",
     "text": [
      "numerical: -1.391587 analytic: -1.391587, relative error: 5.221063e-08\n",
      "CPU times: user 4.3 s, sys: 88 ms, total: 4.39 s\n",
      "Wall time: 4.4 s\n"
     ]
    },
    {
     "name": "stderr",
     "output_type": "stream",
     "text": [
      "\n"
     ]
    }
   ],
   "source": [
    "%%time\n",
    "# Complete the implementation of softmax_loss_naive and implement a (naive)\n",
    "# version of the gradient that uses nested loops.\n",
    "loss, grad = softmax_loss_naive(W, X_dev, y_dev, 0.0)\n",
    "\n",
    "# As we did for the SVM, use numeric gradient checking as a debugging tool.\n",
    "# The numeric gradient should be close to the analytic gradient.\n",
    "from cs231n.gradient_check import grad_check_sparse\n",
    "f = lambda w: softmax_loss_naive(w, X_dev, y_dev, 0.0)[0]\n",
    "grad_numerical = grad_check_sparse(f, W, grad, 10)\n",
    "\n",
    "# similar to SVM case, do another gradient check with regularization\n",
    "loss, grad = softmax_loss_naive(W, X_dev, y_dev, 5e1)\n",
    "f = lambda w: softmax_loss_naive(w, X_dev, y_dev, 5e1)[0]\n",
    "grad_numerical = grad_check_sparse(f, W, grad, 10)"
   ]
  },
  {
   "cell_type": "code",
   "execution_count": 6,
   "metadata": {},
   "outputs": [
    {
     "name": "stderr",
     "output_type": "stream",
     "text": [
      "100%|██████████| 500/500 [00:00<00:00, 3009.25it/s]"
     ]
    },
    {
     "name": "stdout",
     "output_type": "stream",
     "text": [
      "naive loss: 2.401756e+00 computed in 0.169199s\n",
      "vectorized loss: 2.401756e+00 computed in 0.013504s\n",
      "Loss difference: 0.000000\n",
      "Gradient difference: 0.000000\n",
      "CPU times: user 147 ms, sys: 11 ms, total: 158 ms\n",
      "Wall time: 185 ms\n"
     ]
    },
    {
     "name": "stderr",
     "output_type": "stream",
     "text": [
      "\n"
     ]
    }
   ],
   "source": [
    "%%time\n",
    "# Now that we have a naive implementation of the softmax loss function and its gradient,\n",
    "# implement a vectorized version in softmax_loss_vectorized.\n",
    "# The two versions should compute the same results, but the vectorized version should be\n",
    "# much faster.\n",
    "tic = time.time()\n",
    "loss_naive, grad_naive = softmax_loss_naive(W, X_dev, y_dev, 0.000005)\n",
    "toc = time.time()\n",
    "print('naive loss: %e computed in %fs' % (loss_naive, toc - tic))\n",
    "\n",
    "from cs231n.classifiers.softmax import softmax_loss_vectorized\n",
    "tic = time.time()\n",
    "loss_vectorized, grad_vectorized = softmax_loss_vectorized(W, X_dev, y_dev, 0.000005)\n",
    "toc = time.time()\n",
    "print('vectorized loss: %e computed in %fs' % (loss_vectorized, toc - tic))\n",
    "\n",
    "# As we did for the SVM, we use the Frobenius norm to compare the two versions\n",
    "# of the gradient.\n",
    "grad_difference = np.linalg.norm(grad_naive - grad_vectorized, ord='fro')\n",
    "print('Loss difference: %f' % np.abs(loss_naive - loss_vectorized))\n",
    "print('Gradient difference: %f' % grad_difference)"
   ]
  },
  {
   "cell_type": "code",
   "execution_count": 5,
   "metadata": {},
   "outputs": [
    {
     "name": "stdout",
     "output_type": "stream",
     "text": [
      "lr:0.005, reg:0.375479626021348, acc_train:0.23055102040816328, val_train:0.239\n",
      "lr:0.005, reg:0.5840316793078945, acc_train:0.2342857142857143, val_train:0.239\n",
      "lr:0.005, reg:0.8527457439769993, acc_train:0.2663061224489796, val_train:0.271\n",
      "lr:0.005, reg:0.712540367812775, acc_train:0.23244897959183675, val_train:0.252\n",
      "lr:0.005, reg:0.4299578793555242, acc_train:0.2563061224489796, val_train:0.254\n",
      "lr:0.005, reg:0.17547247386468162, acc_train:0.23273469387755102, val_train:0.215\n",
      "lr:0.005, reg:0.5669463053244274, acc_train:0.24110204081632652, val_train:0.24\n",
      "lr:0.005, reg:0.14603086825544864, acc_train:0.2843469387755102, val_train:0.287\n",
      "lr:0.005, reg:0.6237170044383644, acc_train:0.26218367346938776, val_train:0.279\n",
      "lr:0.005, reg:0.1390030530697803, acc_train:0.3099795918367347, val_train:0.301\n",
      "lr:0.05, reg:0.375479626021348, acc_train:0.23410204081632652, val_train:0.245\n",
      "lr:0.05, reg:0.5840316793078945, acc_train:0.17889795918367346, val_train:0.157\n",
      "lr:0.05, reg:0.8527457439769993, acc_train:0.1440204081632653, val_train:0.161\n",
      "lr:0.05, reg:0.712540367812775, acc_train:0.23746938775510204, val_train:0.259\n",
      "lr:0.05, reg:0.4299578793555242, acc_train:0.2216938775510204, val_train:0.229\n",
      "lr:0.05, reg:0.17547247386468162, acc_train:0.23361224489795918, val_train:0.239\n",
      "lr:0.05, reg:0.5669463053244274, acc_train:0.1790204081632653, val_train:0.189\n",
      "lr:0.05, reg:0.14603086825544864, acc_train:0.21818367346938775, val_train:0.231\n",
      "lr:0.05, reg:0.6237170044383644, acc_train:0.19714285714285715, val_train:0.214\n",
      "lr:0.05, reg:0.1390030530697803, acc_train:0.269265306122449, val_train:0.293\n",
      "lr:0.5, reg:0.375479626021348, acc_train:0.16516326530612244, val_train:0.148\n",
      "lr:0.5, reg:0.5840316793078945, acc_train:0.1420612244897959, val_train:0.144\n",
      "lr:0.5, reg:0.8527457439769993, acc_train:0.10959183673469387, val_train:0.111\n",
      "lr:0.5, reg:0.712540367812775, acc_train:0.14575510204081632, val_train:0.146\n",
      "lr:0.5, reg:0.4299578793555242, acc_train:0.15783673469387755, val_train:0.148\n",
      "lr:0.5, reg:0.17547247386468162, acc_train:0.13163265306122449, val_train:0.136\n",
      "lr:0.5, reg:0.5669463053244274, acc_train:0.09138775510204082, val_train:0.089\n",
      "lr:0.5, reg:0.14603086825544864, acc_train:0.18153061224489797, val_train:0.195\n",
      "lr:0.5, reg:0.6237170044383644, acc_train:0.09587755102040817, val_train:0.103\n",
      "lr:0.5, reg:0.1390030530697803, acc_train:0.16812244897959183, val_train:0.174\n",
      "lr 5.000000e-03 reg 1.390031e-01 train accuracy: 0.309980 val accuracy: 0.301000\n",
      "lr 5.000000e-03 reg 1.460309e-01 train accuracy: 0.284347 val accuracy: 0.287000\n",
      "lr 5.000000e-03 reg 1.754725e-01 train accuracy: 0.232735 val accuracy: 0.215000\n",
      "lr 5.000000e-03 reg 3.754796e-01 train accuracy: 0.230551 val accuracy: 0.239000\n",
      "lr 5.000000e-03 reg 4.299579e-01 train accuracy: 0.256306 val accuracy: 0.254000\n",
      "lr 5.000000e-03 reg 5.669463e-01 train accuracy: 0.241102 val accuracy: 0.240000\n",
      "lr 5.000000e-03 reg 5.840317e-01 train accuracy: 0.234286 val accuracy: 0.239000\n",
      "lr 5.000000e-03 reg 6.237170e-01 train accuracy: 0.262184 val accuracy: 0.279000\n",
      "lr 5.000000e-03 reg 7.125404e-01 train accuracy: 0.232449 val accuracy: 0.252000\n",
      "lr 5.000000e-03 reg 8.527457e-01 train accuracy: 0.266306 val accuracy: 0.271000\n",
      "lr 5.000000e-02 reg 1.390031e-01 train accuracy: 0.269265 val accuracy: 0.293000\n",
      "lr 5.000000e-02 reg 1.460309e-01 train accuracy: 0.218184 val accuracy: 0.231000\n",
      "lr 5.000000e-02 reg 1.754725e-01 train accuracy: 0.233612 val accuracy: 0.239000\n",
      "lr 5.000000e-02 reg 3.754796e-01 train accuracy: 0.234102 val accuracy: 0.245000\n",
      "lr 5.000000e-02 reg 4.299579e-01 train accuracy: 0.221694 val accuracy: 0.229000\n",
      "lr 5.000000e-02 reg 5.669463e-01 train accuracy: 0.179020 val accuracy: 0.189000\n",
      "lr 5.000000e-02 reg 5.840317e-01 train accuracy: 0.178898 val accuracy: 0.157000\n",
      "lr 5.000000e-02 reg 6.237170e-01 train accuracy: 0.197143 val accuracy: 0.214000\n",
      "lr 5.000000e-02 reg 7.125404e-01 train accuracy: 0.237469 val accuracy: 0.259000\n",
      "lr 5.000000e-02 reg 8.527457e-01 train accuracy: 0.144020 val accuracy: 0.161000\n",
      "lr 5.000000e-01 reg 1.390031e-01 train accuracy: 0.168122 val accuracy: 0.174000\n",
      "lr 5.000000e-01 reg 1.460309e-01 train accuracy: 0.181531 val accuracy: 0.195000\n",
      "lr 5.000000e-01 reg 1.754725e-01 train accuracy: 0.131633 val accuracy: 0.136000\n",
      "lr 5.000000e-01 reg 3.754796e-01 train accuracy: 0.165163 val accuracy: 0.148000\n",
      "lr 5.000000e-01 reg 4.299579e-01 train accuracy: 0.157837 val accuracy: 0.148000\n",
      "lr 5.000000e-01 reg 5.669463e-01 train accuracy: 0.091388 val accuracy: 0.089000\n",
      "lr 5.000000e-01 reg 5.840317e-01 train accuracy: 0.142061 val accuracy: 0.144000\n",
      "lr 5.000000e-01 reg 6.237170e-01 train accuracy: 0.095878 val accuracy: 0.103000\n",
      "lr 5.000000e-01 reg 7.125404e-01 train accuracy: 0.145755 val accuracy: 0.146000\n",
      "lr 5.000000e-01 reg 8.527457e-01 train accuracy: 0.109592 val accuracy: 0.111000\n",
      "best validation accuracy achieved during cross-validation: 0.301000\n",
      "CPU times: user 1min 52s, sys: 9.31 s, total: 2min 1s\n",
      "Wall time: 1min\n"
     ]
    }
   ],
   "source": [
    "%%time\n",
    "# Use the validation set to tune hyperparameters (regularization strength and\n",
    "# learning rate). You should experiment with different ranges for the learning\n",
    "# rates and regularization strengths; if you are careful you should be able to\n",
    "# get a classification accuracy of over 0.35 on the validation set.\n",
    "from cs231n.classifiers import Softmax\n",
    "results = {}\n",
    "best_val = -1\n",
    "best_softmax = None\n",
    "learning_rates = [0.005, 0.05, 0.5]\n",
    "regularization_strengths = np.random.rand(10)*(1 - 0.1) + 0.1\n",
    "\n",
    "################################################################################\n",
    "# TODO:                                                                        #\n",
    "# Use the validation set to set the learning rate and regularization strength. #\n",
    "# This should be identical to the validation that you did for the SVM; save    #\n",
    "# the best trained softmax classifer in best_softmax.                          #\n",
    "################################################################################\n",
    "#pass\n",
    "from copy import deepcopy\n",
    "for lr in learning_rates:\n",
    "    for reg in regularization_strengths:\n",
    "        softmax = Softmax()\n",
    "        softmax.train(X_train, y_train, lr, reg, num_iters=500)\n",
    "        acc_train = np.mean(softmax.predict(X_train) == y_train)\n",
    "        acc_val = np.mean(softmax.predict(X_val) == y_val)\n",
    "        print('lr:{}, reg:{}, acc_train:{}, val_train:{}'.format(\n",
    "            lr, reg, acc_train, acc_val))\n",
    "        results[(lr, reg)] = (acc_train, acc_val)\n",
    "        if best_val < acc_val:\n",
    "            best_val = acc_val\n",
    "            best_softmax = deepcopy(softmax)\n",
    "        \n",
    "        \n",
    "################################################################################\n",
    "#                              END OF YOUR CODE                                #\n",
    "################################################################################   \n",
    "# Print out results.\n",
    "for lr, reg in sorted(results):\n",
    "    train_accuracy, val_accuracy = results[(lr, reg)]\n",
    "    print('lr %e reg %e train accuracy: %f val accuracy: %f' % (\n",
    "                lr, reg, train_accuracy, val_accuracy))  \n",
    "print('best validation accuracy achieved during cross-validation: %f' % best_val)\n"
   ]
  },
  {
   "cell_type": "code",
   "execution_count": 8,
   "metadata": {},
   "outputs": [
    {
     "name": "stdout",
     "output_type": "stream",
     "text": [
      "softmax on raw pixels final test set accuracy: 0.288000\n"
     ]
    }
   ],
   "source": [
    "# evaluate on test set\n",
    "# Evaluate the best softmax on test set\n",
    "y_test_pred = best_softmax.predict(X_test)\n",
    "test_accuracy = np.mean(y_test == y_test_pred)\n",
    "print('softmax on raw pixels final test set accuracy: %f' % (test_accuracy, ))"
   ]
  },
  {
   "cell_type": "code",
   "execution_count": 9,
   "metadata": {},
   "outputs": [
    {
     "data": {
      "image/png": "[encoded data removed]",
      "text/plain": [
       "<matplotlib.figure.Figure at 0x111786ac8>"
      ]
     },
     "metadata": {},
     "output_type": "display_data"
    }
   ],
   "source": [
    "# Visualize the learned weights for each class\n",
    "w = best_softmax.W[:-1,:] # strip out the bias\n",
    "w = w.reshape(32, 32, 3, 10)\n",
    "\n",
    "w_min, w_max = np.min(w), np.max(w)\n",
    "\n",
    "classes = ['plane', 'car', 'bird', 'cat', 'deer', 'dog', 'frog', 'horse', 'ship', 'truck']\n",
    "for i in range(10):\n",
    "    plt.subplot(2, 5, i + 1)\n",
    "    \n",
    "    # Rescale the weights to be between 0 and 255\n",
    "    wimg = 255.0 * (w[:, :, :, i].squeeze() - w_min) / (w_max - w_min)\n",
    "    plt.imshow(wimg.astype('uint8'))\n",
    "    plt.axis('off')\n",
    "    plt.title(classes[i])"
   ]
  },
  {
   "cell_type": "code",
   "execution_count": null,
   "metadata": {
    "collapsed": true
   },
   "outputs": [],
   "source": []
  }
 ],
 "metadata": {
  "kernelspec": {
   "display_name": "Python 3",
   "language": "python",
   "name": "python3"
  },
  "language_info": {
   "codemirror_mode": {
    "name": "ipython",
    "version": 3
   },
   "file_extension": ".py",
   "mimetype": "text/x-python",
   "name": "python",
   "nbconvert_exporter": "python",
   "pygments_lexer": "ipython3",
   "version": "3.5.3"
  }
 },
 "nbformat": 4,
 "nbformat_minor": 1
}
